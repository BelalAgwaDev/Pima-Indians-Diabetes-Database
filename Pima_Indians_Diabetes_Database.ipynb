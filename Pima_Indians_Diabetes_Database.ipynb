{
 "cells": [
  {
   "cell_type": "markdown",
   "metadata": {
    "id": "0IVqIP_fbRpN"
   },
   "source": [
    "# **download data from kaggle**"
   ]
  },
  {
   "cell_type": "code",
   "execution_count": 1,
   "metadata": {
    "colab": {
     "base_uri": "https://localhost:8080/"
    },
    "id": "_3BtJLm8Sjuh",
    "outputId": "e6a03a2e-53bf-4817-ab83-f127a3831994"
   },
   "outputs": [
    {
     "name": "stdout",
     "output_type": "stream",
     "text": [
      "Downloading pima-indians-diabetes-database.zip to /content\n",
      "\r",
      "  0% 0.00/8.91k [00:00<?, ?B/s]\n",
      "\r",
      "100% 8.91k/8.91k [00:00<00:00, 3.28MB/s]\n"
     ]
    }
   ],
   "source": [
    "import os\n",
    "os.environ['KAGGLE_USERNAME'] = \"00\"  # username from the json file\n",
    "os.environ['KAGGLE_KEY'] = \"00\"  # key from the json file\n",
    "!kaggle datasets download -d uciml/pima-indians-diabetes-database # api copied from kaggle"
   ]
  },
  {
   "cell_type": "code",
   "execution_count": 2,
   "metadata": {
    "colab": {
     "base_uri": "https://localhost:8080/"
    },
    "id": "RpFIPsPIIKXn",
    "outputId": "9fb242e6-fd6e-49f8-a5e8-e14dd96feb83"
   },
   "outputs": [
    {
     "name": "stdout",
     "output_type": "stream",
     "text": [
      "Archive:  /content/pima-indians-diabetes-database.zip\n",
      "  inflating: diabetes.csv            \n"
     ]
    }
   ],
   "source": [
    "!unzip /content/pima-indians-diabetes-database.zip"
   ]
  },
  {
   "cell_type": "code",
   "execution_count": 6,
   "metadata": {
    "id": "7rMRdrq9IcnX"
   },
   "outputs": [],
   "source": [
    "import pickle\n",
    "import numpy as np\n",
    "import pandas as pd\n",
    "from sklearn import svm\n",
    "from sklearn.preprocessing import LabelEncoder\n",
    "from sklearn.model_selection import train_test_split\n",
    "np.random.seed(42)\n",
    "\n",
    "#load data\n",
    "load_data=pd.read_csv(r\"/content/diabetes.csv\")"
   ]
  },
  {
   "cell_type": "code",
   "execution_count": 8,
   "metadata": {
    "colab": {
     "base_uri": "https://localhost:8080/"
    },
    "id": "hwr5Pz1LI_YC",
    "outputId": "7e51076a-57c5-4140-b0cb-7961a2dcac4b"
   },
   "outputs": [
    {
     "name": "stdout",
     "output_type": "stream",
     "text": [
      "   Pregnancies  Glucose  BloodPressure  ...  DiabetesPedigreeFunction  Age  Outcome\n",
      "0            6      148             72  ...                     0.627   50        1\n",
      "1            1       85             66  ...                     0.351   31        0\n",
      "2            8      183             64  ...                     0.672   32        1\n",
      "3            1       89             66  ...                     0.167   21        0\n",
      "4            0      137             40  ...                     2.288   33        1\n",
      "\n",
      "[5 rows x 9 columns]\n"
     ]
    }
   ],
   "source": [
    "#view sample data\n",
    "print(load_data.head())"
   ]
  },
  {
   "cell_type": "code",
   "execution_count": 9,
   "metadata": {
    "colab": {
     "base_uri": "https://localhost:8080/"
    },
    "id": "NB54vOJGLP1Z",
    "outputId": "e439f341-e36a-4341-b6be-119d5fd5a1b0"
   },
   "outputs": [
    {
     "name": "stdout",
     "output_type": "stream",
     "text": [
      "<class 'pandas.core.frame.DataFrame'>\n",
      "RangeIndex: 768 entries, 0 to 767\n",
      "Data columns (total 9 columns):\n",
      " #   Column                    Non-Null Count  Dtype  \n",
      "---  ------                    --------------  -----  \n",
      " 0   Pregnancies               768 non-null    int64  \n",
      " 1   Glucose                   768 non-null    int64  \n",
      " 2   BloodPressure             768 non-null    int64  \n",
      " 3   SkinThickness             768 non-null    int64  \n",
      " 4   Insulin                   768 non-null    int64  \n",
      " 5   BMI                       768 non-null    float64\n",
      " 6   DiabetesPedigreeFunction  768 non-null    float64\n",
      " 7   Age                       768 non-null    int64  \n",
      " 8   Outcome                   768 non-null    int64  \n",
      "dtypes: float64(2), int64(7)\n",
      "memory usage: 54.1 KB\n",
      "None\n"
     ]
    }
   ],
   "source": [
    "# handel missing data\n",
    "\n",
    "print(load_data.info())"
   ]
  },
  {
   "cell_type": "code",
   "execution_count": 10,
   "metadata": {
    "id": "HKw0fwTxLHYF"
   },
   "outputs": [],
   "source": [
    "#  map labled data \n",
    "X=load_data.drop('Outcome',axis=1)\n",
    "y=load_data['Outcome']"
   ]
  },
  {
   "cell_type": "code",
   "execution_count": 11,
   "metadata": {
    "id": "w8mAzAOILmQf"
   },
   "outputs": [],
   "source": [
    "#split data to train \\ test\n",
    "\n",
    "x_train,x_test,y_train,y_test=train_test_split(X,y,test_size=0.2)"
   ]
  },
  {
   "cell_type": "code",
   "execution_count": 12,
   "metadata": {
    "colab": {
     "base_uri": "https://localhost:8080/"
    },
    "id": "zdjTuYxRLtlR",
    "outputId": "8334d16d-9fc3-4731-f299-ae7a9517fbdd"
   },
   "outputs": [
    {
     "name": "stdout",
     "output_type": "stream",
     "text": [
      "Fitting 5 folds for each of 24 candidates, totalling 120 fits\n",
      "[CV] C=1, gamma=1, kernel=linear .....................................\n"
     ]
    },
    {
     "name": "stderr",
     "output_type": "stream",
     "text": [
      "[Parallel(n_jobs=1)]: Using backend SequentialBackend with 1 concurrent workers.\n"
     ]
    },
    {
     "name": "stdout",
     "output_type": "stream",
     "text": [
      "[CV] ......... C=1, gamma=1, kernel=linear, score=0.756, total=   2.5s\n",
      "[CV] C=1, gamma=1, kernel=linear .....................................\n"
     ]
    },
    {
     "name": "stderr",
     "output_type": "stream",
     "text": [
      "[Parallel(n_jobs=1)]: Done   1 out of   1 | elapsed:    2.5s remaining:    0.0s\n"
     ]
    },
    {
     "name": "stdout",
     "output_type": "stream",
     "text": [
      "[CV] ......... C=1, gamma=1, kernel=linear, score=0.813, total=   3.2s\n",
      "[CV] C=1, gamma=1, kernel=linear .....................................\n"
     ]
    },
    {
     "name": "stderr",
     "output_type": "stream",
     "text": [
      "[Parallel(n_jobs=1)]: Done   2 out of   2 | elapsed:    5.7s remaining:    0.0s\n"
     ]
    },
    {
     "name": "stdout",
     "output_type": "stream",
     "text": [
      "[CV] ......... C=1, gamma=1, kernel=linear, score=0.748, total=   4.5s\n",
      "[CV] C=1, gamma=1, kernel=linear .....................................\n",
      "[CV] ......... C=1, gamma=1, kernel=linear, score=0.732, total=   1.5s\n",
      "[CV] C=1, gamma=1, kernel=linear .....................................\n",
      "[CV] ......... C=1, gamma=1, kernel=linear, score=0.779, total=   2.4s\n",
      "[CV] C=1, gamma=1, kernel=rbf ........................................\n",
      "[CV] ............ C=1, gamma=1, kernel=rbf, score=0.659, total=   0.0s\n",
      "[CV] C=1, gamma=1, kernel=rbf ........................................\n",
      "[CV] ............ C=1, gamma=1, kernel=rbf, score=0.650, total=   0.0s\n",
      "[CV] C=1, gamma=1, kernel=rbf ........................................\n",
      "[CV] ............ C=1, gamma=1, kernel=rbf, score=0.650, total=   0.0s\n",
      "[CV] C=1, gamma=1, kernel=rbf ........................................\n",
      "[CV] ............ C=1, gamma=1, kernel=rbf, score=0.650, total=   0.0s\n",
      "[CV] C=1, gamma=1, kernel=rbf ........................................\n",
      "[CV] ............ C=1, gamma=1, kernel=rbf, score=0.656, total=   0.0s\n",
      "[CV] C=1, gamma=0.1, kernel=linear ...................................\n",
      "[CV] ....... C=1, gamma=0.1, kernel=linear, score=0.756, total=   2.5s\n",
      "[CV] C=1, gamma=0.1, kernel=linear ...................................\n",
      "[CV] ....... C=1, gamma=0.1, kernel=linear, score=0.813, total=   3.2s\n",
      "[CV] C=1, gamma=0.1, kernel=linear ...................................\n",
      "[CV] ....... C=1, gamma=0.1, kernel=linear, score=0.748, total=   4.5s\n",
      "[CV] C=1, gamma=0.1, kernel=linear ...................................\n",
      "[CV] ....... C=1, gamma=0.1, kernel=linear, score=0.732, total=   1.5s\n",
      "[CV] C=1, gamma=0.1, kernel=linear ...................................\n",
      "[CV] ....... C=1, gamma=0.1, kernel=linear, score=0.779, total=   2.3s\n",
      "[CV] C=1, gamma=0.1, kernel=rbf ......................................\n",
      "[CV] .......... C=1, gamma=0.1, kernel=rbf, score=0.659, total=   0.0s\n",
      "[CV] C=1, gamma=0.1, kernel=rbf ......................................\n",
      "[CV] .......... C=1, gamma=0.1, kernel=rbf, score=0.650, total=   0.0s\n",
      "[CV] C=1, gamma=0.1, kernel=rbf ......................................\n",
      "[CV] .......... C=1, gamma=0.1, kernel=rbf, score=0.650, total=   0.0s\n",
      "[CV] C=1, gamma=0.1, kernel=rbf ......................................\n",
      "[CV] .......... C=1, gamma=0.1, kernel=rbf, score=0.650, total=   0.0s\n",
      "[CV] C=1, gamma=0.1, kernel=rbf ......................................\n",
      "[CV] .......... C=1, gamma=0.1, kernel=rbf, score=0.656, total=   0.0s\n",
      "[CV] C=1, gamma=0.01, kernel=linear ..................................\n",
      "[CV] ...... C=1, gamma=0.01, kernel=linear, score=0.756, total=   2.5s\n",
      "[CV] C=1, gamma=0.01, kernel=linear ..................................\n",
      "[CV] ...... C=1, gamma=0.01, kernel=linear, score=0.813, total=   3.2s\n",
      "[CV] C=1, gamma=0.01, kernel=linear ..................................\n",
      "[CV] ...... C=1, gamma=0.01, kernel=linear, score=0.748, total=   4.5s\n",
      "[CV] C=1, gamma=0.01, kernel=linear ..................................\n",
      "[CV] ...... C=1, gamma=0.01, kernel=linear, score=0.732, total=   1.5s\n",
      "[CV] C=1, gamma=0.01, kernel=linear ..................................\n",
      "[CV] ...... C=1, gamma=0.01, kernel=linear, score=0.779, total=   2.3s\n",
      "[CV] C=1, gamma=0.01, kernel=rbf .....................................\n",
      "[CV] ......... C=1, gamma=0.01, kernel=rbf, score=0.675, total=   0.0s\n",
      "[CV] C=1, gamma=0.01, kernel=rbf .....................................\n",
      "[CV] ......... C=1, gamma=0.01, kernel=rbf, score=0.667, total=   0.0s\n",
      "[CV] C=1, gamma=0.01, kernel=rbf .....................................\n",
      "[CV] ......... C=1, gamma=0.01, kernel=rbf, score=0.634, total=   0.0s\n",
      "[CV] C=1, gamma=0.01, kernel=rbf .....................................\n",
      "[CV] ......... C=1, gamma=0.01, kernel=rbf, score=0.675, total=   0.0s\n",
      "[CV] C=1, gamma=0.01, kernel=rbf .....................................\n",
      "[CV] ......... C=1, gamma=0.01, kernel=rbf, score=0.648, total=   0.0s\n",
      "[CV] C=1, gamma=0.001, kernel=linear .................................\n",
      "[CV] ..... C=1, gamma=0.001, kernel=linear, score=0.756, total=   2.5s\n",
      "[CV] C=1, gamma=0.001, kernel=linear .................................\n",
      "[CV] ..... C=1, gamma=0.001, kernel=linear, score=0.813, total=   3.2s\n",
      "[CV] C=1, gamma=0.001, kernel=linear .................................\n",
      "[CV] ..... C=1, gamma=0.001, kernel=linear, score=0.748, total=   4.5s\n",
      "[CV] C=1, gamma=0.001, kernel=linear .................................\n",
      "[CV] ..... C=1, gamma=0.001, kernel=linear, score=0.732, total=   1.5s\n",
      "[CV] C=1, gamma=0.001, kernel=linear .................................\n",
      "[CV] ..... C=1, gamma=0.001, kernel=linear, score=0.779, total=   2.3s\n",
      "[CV] C=1, gamma=0.001, kernel=rbf ....................................\n",
      "[CV] ........ C=1, gamma=0.001, kernel=rbf, score=0.724, total=   0.0s\n",
      "[CV] C=1, gamma=0.001, kernel=rbf ....................................\n",
      "[CV] ........ C=1, gamma=0.001, kernel=rbf, score=0.780, total=   0.0s\n",
      "[CV] C=1, gamma=0.001, kernel=rbf ....................................\n",
      "[CV] ........ C=1, gamma=0.001, kernel=rbf, score=0.756, total=   0.0s\n",
      "[CV] C=1, gamma=0.001, kernel=rbf ....................................\n",
      "[CV] ........ C=1, gamma=0.001, kernel=rbf, score=0.740, total=   0.0s\n",
      "[CV] C=1, gamma=0.001, kernel=rbf ....................................\n",
      "[CV] ........ C=1, gamma=0.001, kernel=rbf, score=0.738, total=   0.0s\n",
      "[CV] C=5, gamma=1, kernel=linear .....................................\n",
      "[CV] ......... C=5, gamma=1, kernel=linear, score=0.756, total=  23.9s\n",
      "[CV] C=5, gamma=1, kernel=linear .....................................\n",
      "[CV] ......... C=5, gamma=1, kernel=linear, score=0.813, total=  18.6s\n",
      "[CV] C=5, gamma=1, kernel=linear .....................................\n",
      "[CV] ......... C=5, gamma=1, kernel=linear, score=0.748, total=  12.7s\n",
      "[CV] C=5, gamma=1, kernel=linear .....................................\n",
      "[CV] ......... C=5, gamma=1, kernel=linear, score=0.732, total=   6.4s\n",
      "[CV] C=5, gamma=1, kernel=linear .....................................\n",
      "[CV] ......... C=5, gamma=1, kernel=linear, score=0.762, total=  10.5s\n",
      "[CV] C=5, gamma=1, kernel=rbf ........................................\n",
      "[CV] ............ C=5, gamma=1, kernel=rbf, score=0.659, total=   0.0s\n",
      "[CV] C=5, gamma=1, kernel=rbf ........................................\n",
      "[CV] ............ C=5, gamma=1, kernel=rbf, score=0.650, total=   0.0s\n",
      "[CV] C=5, gamma=1, kernel=rbf ........................................\n",
      "[CV] ............ C=5, gamma=1, kernel=rbf, score=0.650, total=   0.0s\n",
      "[CV] C=5, gamma=1, kernel=rbf ........................................\n",
      "[CV] ............ C=5, gamma=1, kernel=rbf, score=0.650, total=   0.0s\n",
      "[CV] C=5, gamma=1, kernel=rbf ........................................\n",
      "[CV] ............ C=5, gamma=1, kernel=rbf, score=0.656, total=   0.0s\n",
      "[CV] C=5, gamma=0.1, kernel=linear ...................................\n",
      "[CV] ....... C=5, gamma=0.1, kernel=linear, score=0.756, total=  23.8s\n",
      "[CV] C=5, gamma=0.1, kernel=linear ...................................\n",
      "[CV] ....... C=5, gamma=0.1, kernel=linear, score=0.813, total=  18.4s\n",
      "[CV] C=5, gamma=0.1, kernel=linear ...................................\n",
      "[CV] ....... C=5, gamma=0.1, kernel=linear, score=0.748, total=  12.6s\n",
      "[CV] C=5, gamma=0.1, kernel=linear ...................................\n",
      "[CV] ....... C=5, gamma=0.1, kernel=linear, score=0.732, total=   6.3s\n",
      "[CV] C=5, gamma=0.1, kernel=linear ...................................\n",
      "[CV] ....... C=5, gamma=0.1, kernel=linear, score=0.762, total=  10.5s\n",
      "[CV] C=5, gamma=0.1, kernel=rbf ......................................\n",
      "[CV] .......... C=5, gamma=0.1, kernel=rbf, score=0.659, total=   0.0s\n",
      "[CV] C=5, gamma=0.1, kernel=rbf ......................................\n",
      "[CV] .......... C=5, gamma=0.1, kernel=rbf, score=0.650, total=   0.0s\n",
      "[CV] C=5, gamma=0.1, kernel=rbf ......................................\n",
      "[CV] .......... C=5, gamma=0.1, kernel=rbf, score=0.650, total=   0.0s\n",
      "[CV] C=5, gamma=0.1, kernel=rbf ......................................\n",
      "[CV] .......... C=5, gamma=0.1, kernel=rbf, score=0.650, total=   0.0s\n",
      "[CV] C=5, gamma=0.1, kernel=rbf ......................................\n",
      "[CV] .......... C=5, gamma=0.1, kernel=rbf, score=0.656, total=   0.0s\n",
      "[CV] C=5, gamma=0.01, kernel=linear ..................................\n",
      "[CV] ...... C=5, gamma=0.01, kernel=linear, score=0.756, total=  23.8s\n",
      "[CV] C=5, gamma=0.01, kernel=linear ..................................\n",
      "[CV] ...... C=5, gamma=0.01, kernel=linear, score=0.813, total=  18.6s\n",
      "[CV] C=5, gamma=0.01, kernel=linear ..................................\n",
      "[CV] ...... C=5, gamma=0.01, kernel=linear, score=0.748, total=  12.6s\n",
      "[CV] C=5, gamma=0.01, kernel=linear ..................................\n",
      "[CV] ...... C=5, gamma=0.01, kernel=linear, score=0.732, total=   6.3s\n",
      "[CV] C=5, gamma=0.01, kernel=linear ..................................\n",
      "[CV] ...... C=5, gamma=0.01, kernel=linear, score=0.762, total=  10.5s\n",
      "[CV] C=5, gamma=0.01, kernel=rbf .....................................\n",
      "[CV] ......... C=5, gamma=0.01, kernel=rbf, score=0.699, total=   0.0s\n",
      "[CV] C=5, gamma=0.01, kernel=rbf .....................................\n",
      "[CV] ......... C=5, gamma=0.01, kernel=rbf, score=0.626, total=   0.0s\n",
      "[CV] C=5, gamma=0.01, kernel=rbf .....................................\n",
      "[CV] ......... C=5, gamma=0.01, kernel=rbf, score=0.634, total=   0.0s\n",
      "[CV] C=5, gamma=0.01, kernel=rbf .....................................\n",
      "[CV] ......... C=5, gamma=0.01, kernel=rbf, score=0.659, total=   0.0s\n",
      "[CV] C=5, gamma=0.01, kernel=rbf .....................................\n",
      "[CV] ......... C=5, gamma=0.01, kernel=rbf, score=0.615, total=   0.0s\n",
      "[CV] C=5, gamma=0.001, kernel=linear .................................\n",
      "[CV] ..... C=5, gamma=0.001, kernel=linear, score=0.756, total=  23.8s\n",
      "[CV] C=5, gamma=0.001, kernel=linear .................................\n",
      "[CV] ..... C=5, gamma=0.001, kernel=linear, score=0.813, total=  18.9s\n",
      "[CV] C=5, gamma=0.001, kernel=linear .................................\n",
      "[CV] ..... C=5, gamma=0.001, kernel=linear, score=0.748, total=  12.7s\n",
      "[CV] C=5, gamma=0.001, kernel=linear .................................\n",
      "[CV] ..... C=5, gamma=0.001, kernel=linear, score=0.732, total=   6.3s\n",
      "[CV] C=5, gamma=0.001, kernel=linear .................................\n",
      "[CV] ..... C=5, gamma=0.001, kernel=linear, score=0.762, total=  10.5s\n",
      "[CV] C=5, gamma=0.001, kernel=rbf ....................................\n",
      "[CV] ........ C=5, gamma=0.001, kernel=rbf, score=0.748, total=   0.0s\n",
      "[CV] C=5, gamma=0.001, kernel=rbf ....................................\n",
      "[CV] ........ C=5, gamma=0.001, kernel=rbf, score=0.780, total=   0.0s\n",
      "[CV] C=5, gamma=0.001, kernel=rbf ....................................\n",
      "[CV] ........ C=5, gamma=0.001, kernel=rbf, score=0.715, total=   0.0s\n",
      "[CV] C=5, gamma=0.001, kernel=rbf ....................................\n",
      "[CV] ........ C=5, gamma=0.001, kernel=rbf, score=0.764, total=   0.0s\n",
      "[CV] C=5, gamma=0.001, kernel=rbf ....................................\n",
      "[CV] ........ C=5, gamma=0.001, kernel=rbf, score=0.730, total=   0.0s\n",
      "[CV] C=10, gamma=1, kernel=linear ....................................\n",
      "[CV] ........ C=10, gamma=1, kernel=linear, score=0.756, total=  33.1s\n",
      "[CV] C=10, gamma=1, kernel=linear ....................................\n",
      "[CV] ........ C=10, gamma=1, kernel=linear, score=0.805, total=  22.5s\n",
      "[CV] C=10, gamma=1, kernel=linear ....................................\n",
      "[CV] ........ C=10, gamma=1, kernel=linear, score=0.748, total=  12.8s\n",
      "[CV] C=10, gamma=1, kernel=linear ....................................\n",
      "[CV] ........ C=10, gamma=1, kernel=linear, score=0.732, total=  20.8s\n",
      "[CV] C=10, gamma=1, kernel=linear ....................................\n",
      "[CV] ........ C=10, gamma=1, kernel=linear, score=0.770, total=  18.5s\n",
      "[CV] C=10, gamma=1, kernel=rbf .......................................\n",
      "[CV] ........... C=10, gamma=1, kernel=rbf, score=0.659, total=   0.0s\n",
      "[CV] C=10, gamma=1, kernel=rbf .......................................\n",
      "[CV] ........... C=10, gamma=1, kernel=rbf, score=0.650, total=   0.0s\n",
      "[CV] C=10, gamma=1, kernel=rbf .......................................\n",
      "[CV] ........... C=10, gamma=1, kernel=rbf, score=0.650, total=   0.0s\n",
      "[CV] C=10, gamma=1, kernel=rbf .......................................\n",
      "[CV] ........... C=10, gamma=1, kernel=rbf, score=0.650, total=   0.0s\n",
      "[CV] C=10, gamma=1, kernel=rbf .......................................\n",
      "[CV] ........... C=10, gamma=1, kernel=rbf, score=0.656, total=   0.0s\n",
      "[CV] C=10, gamma=0.1, kernel=linear ..................................\n",
      "[CV] ...... C=10, gamma=0.1, kernel=linear, score=0.756, total=  33.1s\n",
      "[CV] C=10, gamma=0.1, kernel=linear ..................................\n",
      "[CV] ...... C=10, gamma=0.1, kernel=linear, score=0.805, total=  22.4s\n",
      "[CV] C=10, gamma=0.1, kernel=linear ..................................\n",
      "[CV] ...... C=10, gamma=0.1, kernel=linear, score=0.748, total=  12.6s\n",
      "[CV] C=10, gamma=0.1, kernel=linear ..................................\n",
      "[CV] ...... C=10, gamma=0.1, kernel=linear, score=0.732, total=  20.7s\n",
      "[CV] C=10, gamma=0.1, kernel=linear ..................................\n",
      "[CV] ...... C=10, gamma=0.1, kernel=linear, score=0.770, total=  18.4s\n",
      "[CV] C=10, gamma=0.1, kernel=rbf .....................................\n",
      "[CV] ......... C=10, gamma=0.1, kernel=rbf, score=0.659, total=   0.0s\n",
      "[CV] C=10, gamma=0.1, kernel=rbf .....................................\n",
      "[CV] ......... C=10, gamma=0.1, kernel=rbf, score=0.650, total=   0.0s\n",
      "[CV] C=10, gamma=0.1, kernel=rbf .....................................\n",
      "[CV] ......... C=10, gamma=0.1, kernel=rbf, score=0.650, total=   0.0s\n",
      "[CV] C=10, gamma=0.1, kernel=rbf .....................................\n",
      "[CV] ......... C=10, gamma=0.1, kernel=rbf, score=0.650, total=   0.0s\n",
      "[CV] C=10, gamma=0.1, kernel=rbf .....................................\n",
      "[CV] ......... C=10, gamma=0.1, kernel=rbf, score=0.656, total=   0.0s\n",
      "[CV] C=10, gamma=0.01, kernel=linear .................................\n",
      "[CV] ..... C=10, gamma=0.01, kernel=linear, score=0.756, total=  33.1s\n",
      "[CV] C=10, gamma=0.01, kernel=linear .................................\n",
      "[CV] ..... C=10, gamma=0.01, kernel=linear, score=0.805, total=  22.5s\n",
      "[CV] C=10, gamma=0.01, kernel=linear .................................\n",
      "[CV] ..... C=10, gamma=0.01, kernel=linear, score=0.748, total=  12.8s\n",
      "[CV] C=10, gamma=0.01, kernel=linear .................................\n",
      "[CV] ..... C=10, gamma=0.01, kernel=linear, score=0.732, total=  21.1s\n",
      "[CV] C=10, gamma=0.01, kernel=linear .................................\n",
      "[CV] ..... C=10, gamma=0.01, kernel=linear, score=0.770, total=  18.5s\n",
      "[CV] C=10, gamma=0.01, kernel=rbf ....................................\n",
      "[CV] ........ C=10, gamma=0.01, kernel=rbf, score=0.707, total=   0.0s\n",
      "[CV] C=10, gamma=0.01, kernel=rbf ....................................\n",
      "[CV] ........ C=10, gamma=0.01, kernel=rbf, score=0.626, total=   0.0s\n",
      "[CV] C=10, gamma=0.01, kernel=rbf ....................................\n",
      "[CV] ........ C=10, gamma=0.01, kernel=rbf, score=0.634, total=   0.0s\n",
      "[CV] C=10, gamma=0.01, kernel=rbf ....................................\n",
      "[CV] ........ C=10, gamma=0.01, kernel=rbf, score=0.659, total=   0.0s\n",
      "[CV] C=10, gamma=0.01, kernel=rbf ....................................\n",
      "[CV] ........ C=10, gamma=0.01, kernel=rbf, score=0.615, total=   0.0s\n",
      "[CV] C=10, gamma=0.001, kernel=linear ................................\n",
      "[CV] .... C=10, gamma=0.001, kernel=linear, score=0.756, total=  33.2s\n",
      "[CV] C=10, gamma=0.001, kernel=linear ................................\n",
      "[CV] .... C=10, gamma=0.001, kernel=linear, score=0.805, total=  22.7s\n",
      "[CV] C=10, gamma=0.001, kernel=linear ................................\n",
      "[CV] .... C=10, gamma=0.001, kernel=linear, score=0.748, total=  12.6s\n",
      "[CV] C=10, gamma=0.001, kernel=linear ................................\n",
      "[CV] .... C=10, gamma=0.001, kernel=linear, score=0.732, total=  20.8s\n",
      "[CV] C=10, gamma=0.001, kernel=linear ................................\n",
      "[CV] .... C=10, gamma=0.001, kernel=linear, score=0.770, total=  18.5s\n",
      "[CV] C=10, gamma=0.001, kernel=rbf ...................................\n",
      "[CV] ....... C=10, gamma=0.001, kernel=rbf, score=0.748, total=   0.0s\n",
      "[CV] C=10, gamma=0.001, kernel=rbf ...................................\n",
      "[CV] ....... C=10, gamma=0.001, kernel=rbf, score=0.780, total=   0.0s\n",
      "[CV] C=10, gamma=0.001, kernel=rbf ...................................\n",
      "[CV] ....... C=10, gamma=0.001, kernel=rbf, score=0.667, total=   0.0s\n",
      "[CV] C=10, gamma=0.001, kernel=rbf ...................................\n",
      "[CV] ....... C=10, gamma=0.001, kernel=rbf, score=0.732, total=   0.0s\n",
      "[CV] C=10, gamma=0.001, kernel=rbf ...................................\n",
      "[CV] ....... C=10, gamma=0.001, kernel=rbf, score=0.697, total=   0.0s\n"
     ]
    },
    {
     "name": "stderr",
     "output_type": "stream",
     "text": [
      "[Parallel(n_jobs=1)]: Done 120 out of 120 | elapsed: 12.9min finished\n"
     ]
    },
    {
     "data": {
      "text/plain": [
       "GridSearchCV(cv=None, error_score=nan,\n",
       "             estimator=SVC(C=1.0, break_ties=False, cache_size=200,\n",
       "                           class_weight=None, coef0=0.0,\n",
       "                           decision_function_shape='ovr', degree=3,\n",
       "                           gamma='scale', kernel='rbf', max_iter=-1,\n",
       "                           probability=False, random_state=None, shrinking=True,\n",
       "                           tol=0.001, verbose=False),\n",
       "             iid='deprecated', n_jobs=None,\n",
       "             param_grid={'C': [1, 5, 10], 'gamma': [1, 0.1, 0.01, 0.001],\n",
       "                         'kernel': ('linear', 'rbf')},\n",
       "             pre_dispatch='2*n_jobs', refit=True, return_train_score=False,\n",
       "             scoring=None, verbose=3)"
      ]
     },
     "execution_count": 12,
     "metadata": {
      "tags": []
     },
     "output_type": "execute_result"
    }
   ],
   "source": [
    "# tune model parms\n",
    "\n",
    "from sklearn.model_selection import GridSearchCV\n",
    "prams={\"kernel\":(\"linear\",\"rbf\"), \"C\":[1,5,10], \"gamma\":[1,0.1,0.01,0.001]}\n",
    "grid=GridSearchCV(svm.SVC(),prams,verbose=3)\n",
    "grid.fit(x_train,y_train)\n"
   ]
  },
  {
   "cell_type": "code",
   "execution_count": 13,
   "metadata": {
    "colab": {
     "base_uri": "https://localhost:8080/"
    },
    "id": "QlUXsGRIPCLA",
    "outputId": "54eb7855-743a-451b-930d-e6ca4d3b24e9"
   },
   "outputs": [
    {
     "name": "stdout",
     "output_type": "stream",
     "text": [
      "{'C': 1, 'gamma': 1, 'kernel': 'linear'}\n",
      "0.7654938024790084\n"
     ]
    }
   ],
   "source": [
    "print(grid.best_params_)\n",
    "print(grid.best_score_)"
   ]
  },
  {
   "cell_type": "code",
   "execution_count": 14,
   "metadata": {
    "id": "mdO9EAYrPKOC"
   },
   "outputs": [],
   "source": [
    "#choose model\n",
    "\n",
    "model=svm.SVC(C=1, gamma= 1, kernel='linear')"
   ]
  },
  {
   "cell_type": "code",
   "execution_count": 15,
   "metadata": {
    "colab": {
     "base_uri": "https://localhost:8080/"
    },
    "id": "trzRE2yUPUaH",
    "outputId": "d6338717-951e-4890-f192-95074b69906d"
   },
   "outputs": [
    {
     "data": {
      "text/plain": [
       "SVC(C=1, break_ties=False, cache_size=200, class_weight=None, coef0=0.0,\n",
       "    decision_function_shape='ovr', degree=3, gamma=1, kernel='linear',\n",
       "    max_iter=-1, probability=False, random_state=None, shrinking=True,\n",
       "    tol=0.001, verbose=False)"
      ]
     },
     "execution_count": 15,
     "metadata": {
      "tags": []
     },
     "output_type": "execute_result"
    }
   ],
   "source": [
    "#train model\n",
    "\n",
    "model.fit(x_train,y_train)\n"
   ]
  },
  {
   "cell_type": "code",
   "execution_count": 16,
   "metadata": {
    "colab": {
     "base_uri": "https://localhost:8080/"
    },
    "id": "C7OiEOojPamq",
    "outputId": "73461a4c-a95c-40ea-8bee-384bebcb9fb6"
   },
   "outputs": [
    {
     "name": "stdout",
     "output_type": "stream",
     "text": [
      "0.7736156351791531\n",
      "0.7532467532467533\n"
     ]
    }
   ],
   "source": [
    "print(model.score(x_train , y_train))\n",
    "print(model.score(x_test , y_test))"
   ]
  },
  {
   "cell_type": "code",
   "execution_count": 17,
   "metadata": {
    "id": "2RYpbgAFPeTc"
   },
   "outputs": [],
   "source": [
    "from sklearn.neighbors import KNeighborsClassifier\n",
    "model1 = KNeighborsClassifier(n_neighbors=3)"
   ]
  },
  {
   "cell_type": "code",
   "execution_count": 18,
   "metadata": {
    "colab": {
     "base_uri": "https://localhost:8080/"
    },
    "id": "nl39BDjBP1Hf",
    "outputId": "5d3f2a10-7104-48a5-8401-b0042f6b3225"
   },
   "outputs": [
    {
     "data": {
      "text/plain": [
       "KNeighborsClassifier(algorithm='auto', leaf_size=30, metric='minkowski',\n",
       "                     metric_params=None, n_jobs=None, n_neighbors=3, p=2,\n",
       "                     weights='uniform')"
      ]
     },
     "execution_count": 18,
     "metadata": {
      "tags": []
     },
     "output_type": "execute_result"
    }
   ],
   "source": [
    "model1.fit(x_train,y_train)"
   ]
  },
  {
   "cell_type": "code",
   "execution_count": 20,
   "metadata": {
    "colab": {
     "base_uri": "https://localhost:8080/"
    },
    "id": "ZzIr4jkCP5li",
    "outputId": "3bcf9afd-6597-43f6-d2b1-92ab55ce22a3"
   },
   "outputs": [
    {
     "name": "stdout",
     "output_type": "stream",
     "text": [
      "0.8550488599348535\n",
      "0.6493506493506493\n"
     ]
    }
   ],
   "source": [
    "print(model1.score(x_train , y_train))\n",
    "print(model1.score(x_test , y_test))"
   ]
  },
  {
   "cell_type": "code",
   "execution_count": 21,
   "metadata": {
    "id": "ElwiWkTCQABJ"
   },
   "outputs": [],
   "source": [
    "from sklearn.ensemble import BaggingClassifier\n",
    "from sklearn.neighbors import KNeighborsClassifier\n",
    "bagging = BaggingClassifier(KNeighborsClassifier(), max_samples=0.5, max_features=0.5)\n"
   ]
  },
  {
   "cell_type": "code",
   "execution_count": 22,
   "metadata": {
    "colab": {
     "base_uri": "https://localhost:8080/"
    },
    "id": "pJcovcOFQPWx",
    "outputId": "254dff31-b2ea-4755-987f-70bc3b32504c"
   },
   "outputs": [
    {
     "data": {
      "text/plain": [
       "BaggingClassifier(base_estimator=KNeighborsClassifier(algorithm='auto',\n",
       "                                                      leaf_size=30,\n",
       "                                                      metric='minkowski',\n",
       "                                                      metric_params=None,\n",
       "                                                      n_jobs=None,\n",
       "                                                      n_neighbors=5, p=2,\n",
       "                                                      weights='uniform'),\n",
       "                  bootstrap=True, bootstrap_features=False, max_features=0.5,\n",
       "                  max_samples=0.5, n_estimators=10, n_jobs=None,\n",
       "                  oob_score=False, random_state=None, verbose=0,\n",
       "                  warm_start=False)"
      ]
     },
     "execution_count": 22,
     "metadata": {
      "tags": []
     },
     "output_type": "execute_result"
    }
   ],
   "source": [
    "bagging.fit(x_train,y_train)"
   ]
  },
  {
   "cell_type": "code",
   "execution_count": 23,
   "metadata": {
    "colab": {
     "base_uri": "https://localhost:8080/"
    },
    "id": "9asxXx-MQUYU",
    "outputId": "6ad0ba9a-3345-417d-a5e2-ca0201b4ccfa"
   },
   "outputs": [
    {
     "name": "stdout",
     "output_type": "stream",
     "text": [
      "0.7899022801302932\n",
      "0.6883116883116883\n"
     ]
    }
   ],
   "source": [
    "print(bagging.score(x_train , y_train))\n",
    "print(bagging.score(x_test , y_test))"
   ]
  }
 ],
 "metadata": {
  "colab": {
   "name": "Pima Indians Diabetes Database.ipynb",
   "provenance": []
  },
  "kernelspec": {
   "display_name": "Python 3",
   "language": "python",
   "name": "python3"
  },
  "language_info": {
   "codemirror_mode": {
    "name": "ipython",
    "version": 3
   },
   "file_extension": ".py",
   "mimetype": "text/x-python",
   "name": "python",
   "nbconvert_exporter": "python",
   "pygments_lexer": "ipython3",
   "version": "3.8.5"
  }
 },
 "nbformat": 4,
 "nbformat_minor": 1
}
